{
  "nbformat": 4,
  "nbformat_minor": 0,
  "metadata": {
    "colab": {
      "provenance": [],
      "authorship_tag": "ABX9TyOUZ/rOYsefmtO0FvPMiWua",
      "include_colab_link": true
    },
    "kernelspec": {
      "name": "python3",
      "display_name": "Python 3"
    },
    "language_info": {
      "name": "python"
    }
  },
  "cells": [
    {
      "cell_type": "markdown",
      "metadata": {
        "id": "view-in-github",
        "colab_type": "text"
      },
      "source": [
        "<a href=\"https://colab.research.google.com/github/Siddhanttambe2/files-and-exceptional-handling-assignment/blob/main/files_%26_exceptional_handling_assignment.ipynb\" target=\"_parent\"><img src=\"https://colab.research.google.com/assets/colab-badge.svg\" alt=\"Open In Colab\"/></a>"
      ]
    },
    {
      "cell_type": "code",
      "execution_count": 1,
      "metadata": {
        "id": "se-kqovJxzKV"
      },
      "outputs": [],
      "source": [
        "#Q1) Discuss the scenarios where multithreading is preferable to multiprocessing and scenarios where multiprocessing is a better choice."
      ]
    },
    {
      "cell_type": "code",
      "source": [
        "#Multithreading is prefered when:\n",
        "#Tasks are I/O-bound like file reading/writing, network operations) because threads can be idle while waiting for I/O operations to complete.\n",
        "#Low overhead is needed, as threads are lightweight compared to processes.\n",
        "#Multiprocessing is preferable when:\n",
        "#tasks are CPU-bound like heavy computation as it allows better CPU utilization by leveraging multiple CPU cores.\n",
        "#Each task needs to be isolated, as processes have their own memory space, reducing the risk of interference.\n",
        "#Scalability is important, especially for parallel execution of independent tasks across multiple processors."
      ],
      "metadata": {
        "id": "sjwQBZHIyGfU"
      },
      "execution_count": 3,
      "outputs": []
    },
    {
      "cell_type": "code",
      "source": [
        "#Q2) Describe what a process pool is and how it helps in managing multiple processes efficiently."
      ],
      "metadata": {
        "id": "zmY17Zn6y75h"
      },
      "execution_count": 4,
      "outputs": []
    },
    {
      "cell_type": "code",
      "source": [
        "#A process pool is a collection of worker processes that can be reused to execute multiple tasks concurrently."
      ],
      "metadata": {
        "id": "xMCbLAzVzH22"
      },
      "execution_count": 5,
      "outputs": []
    },
    {
      "cell_type": "code",
      "source": [
        "#It manage multiple process by :\n",
        "#Reducing the overhead of creating and destroying processes repeatedly.\n",
        "#Efficiently distributing tasks among a fixed number of processes, ensuring that resources are not overutilized.\n",
        "#Offering an interface to manage parallel execution, allowing tasks to be queued and executed by idle workers in the pool."
      ],
      "metadata": {
        "id": "uhDHR_6dzQ8y"
      },
      "execution_count": 6,
      "outputs": []
    },
    {
      "cell_type": "code",
      "source": [
        "#Q3) Explain what multiprocessing is and why it is used in Python programs."
      ],
      "metadata": {
        "id": "W9foBp7TzxS9"
      },
      "execution_count": 7,
      "outputs": []
    },
    {
      "cell_type": "code",
      "source": [
        "#Multiprocessing is the technique of using multiple independent processes to execute tasks concurrently\n",
        "# It is used to overcome the limitations of the Global Interpreter Lock (GIL) which prevents multiple threads from executing Python bytecode in parallel.\n",
        "#Isolate memory between processes, which is beneficial when tasks need to be executed in isolation."
      ],
      "metadata": {
        "id": "dWFbcG4ez0l8"
      },
      "execution_count": 8,
      "outputs": []
    },
    {
      "cell_type": "code",
      "source": [
        "#Q4)Write a Python program using multithreading where one thread adds numbers to a list, and another thread removes numbers from the list. Implement a mechanism to avoid race conditions using threading.Lock"
      ],
      "metadata": {
        "id": "5qm7wQBi0Q9A"
      },
      "execution_count": 9,
      "outputs": []
    },
    {
      "cell_type": "code",
      "source": [
        "import threading\n",
        "numbers = []\n",
        "lock = threading.Lock()\n",
        "def add_numbers():\n",
        "    for i in range(3):\n",
        "        with lock:\n",
        "            numbers.append(i)\n",
        "            print(f\"Added {i}, List: {numbers}\")\n",
        "def remove_numbers():\n",
        "    for i in range(5):\n",
        "        with lock:\n",
        "            if numbers:\n",
        "                removed = numbers.pop(0)\n",
        "                print(f\"Removed {removed}, List: {numbers}\")\n",
        "thread1 = threading.Thread(target=add_numbers)\n",
        "thread2 = threading.Thread(target=remove_numbers)\n",
        "\n",
        "thread1.start()\n",
        "thread2.start()\n",
        "\n",
        "thread1.join()\n",
        "thread2.join()\n",
        "\n",
        "print(\"Final List:\", numbers)\n"
      ],
      "metadata": {
        "colab": {
          "base_uri": "https://localhost:8080/"
        },
        "id": "JkJ5HzkU0YLB",
        "outputId": "31c45cf6-0082-4d88-a48c-b85512292266"
      },
      "execution_count": 12,
      "outputs": [
        {
          "output_type": "stream",
          "name": "stdout",
          "text": [
            "Added 0, List: [0]\n",
            "Added 1, List: [0, 1]\n",
            "Added 2, List: [0, 1, 2]\n",
            "Removed 0, List: [1, 2]\n",
            "Removed 1, List: [2]\n",
            "Removed 2, List: []\n",
            "Final List: []\n"
          ]
        }
      ]
    },
    {
      "cell_type": "code",
      "source": [
        "#Q5) Describe the methods and tools available in Python for safely sharing data between threads and processes."
      ],
      "metadata": {
        "id": "kYo4n6dt0ky2"
      },
      "execution_count": 13,
      "outputs": []
    },
    {
      "cell_type": "code",
      "source": [
        "#Threads:\n",
        "#threading.Lock: Ensures that only one thread can access shared data at a time, preventing race conditions.\n",
        "#threading.RLock: A reentrant lock that allows the same thread to acquire the lock multiple times.\n",
        "#threading.Event: A simple signaling mechanism for threads to wait for or set an event.\n",
        "#Processes:\n",
        "#multiprocessing.Queue: Allows safe sharing of data between processes using a first-in, first-out structure.\n",
        "#multiprocessing.Pipe: Provides a two-way communication channel between processes.\n",
        "#multiprocessing.Manager: Manages a shared state (like lists or dictionaries) among processes."
      ],
      "metadata": {
        "id": "CE_SFJv503lf"
      },
      "execution_count": 14,
      "outputs": []
    },
    {
      "cell_type": "code",
      "source": [
        "#Q6) Discuss why it’s crucial to handle exceptions in concurrent programs and the techniques available for doing so"
      ],
      "metadata": {
        "id": "FlLLGq0J1aeU"
      },
      "execution_count": 15,
      "outputs": []
    },
    {
      "cell_type": "code",
      "source": [
        "#Handling exceptions in concurrent programs is crucial because they can lead to unexpected behavior Failures in one thread/process can go unnoticed by others, leading to inconsistent states or incomplete tasks.\n",
        "#Uncaught exceptions can cause the entire program to crash, especially in thread pools or process pools."
      ],
      "metadata": {
        "id": "CuPZXhwc1dWo"
      },
      "execution_count": 16,
      "outputs": []
    },
    {
      "cell_type": "code",
      "source": [
        "#we can use try-except blocks to catch and handle exceptions within each thread or process.\n",
        "#Log exceptions for debugging purposes while ensuring that the program continues running."
      ],
      "metadata": {
        "id": "dgJp4ynL10T3"
      },
      "execution_count": 17,
      "outputs": []
    },
    {
      "cell_type": "code",
      "source": [
        "#Q7) Create a program that uses a thread pool to calculate the factorial of numbers from 1 to 10 concurrently. Use concurrent.futures.ThreadPoolExecutor to manage the threads."
      ],
      "metadata": {
        "id": "iKXp6IZ82KB7"
      },
      "execution_count": 18,
      "outputs": []
    },
    {
      "cell_type": "code",
      "source": [
        "import concurrent.futures\n",
        "import math\n",
        "def factorial(n):\n",
        "    return math.factorial(n)\n",
        "with concurrent.futures.ThreadPoolExecutor() as executor:\n",
        "    numbers = range(1, 11)\n",
        "    answer = executor.map(factorial, numbers)\n",
        "for num, result in zip(numbers, answer):\n",
        "    print(f\"Factorial of {num} is {result}\")\n"
      ],
      "metadata": {
        "colab": {
          "base_uri": "https://localhost:8080/"
        },
        "id": "S5yr3Gv32Mdo",
        "outputId": "80dc625c-8ff7-4cf5-93ac-3ec692b16667"
      },
      "execution_count": 19,
      "outputs": [
        {
          "output_type": "stream",
          "name": "stdout",
          "text": [
            "Factorial of 1 is 1\n",
            "Factorial of 2 is 2\n",
            "Factorial of 3 is 6\n",
            "Factorial of 4 is 24\n",
            "Factorial of 5 is 120\n",
            "Factorial of 6 is 720\n",
            "Factorial of 7 is 5040\n",
            "Factorial of 8 is 40320\n",
            "Factorial of 9 is 362880\n",
            "Factorial of 10 is 3628800\n"
          ]
        }
      ]
    },
    {
      "cell_type": "code",
      "source": [
        "#Q8) Create a Python program that uses multiprocessing.Pool to compute the square of numbers from 1 to 10 in parallel. Measure the time taken to perform this computation using a pool of different sizes (e.g., 2, 4, 8 processes)."
      ],
      "metadata": {
        "id": "FyzhKZAr2ncH"
      },
      "execution_count": 20,
      "outputs": []
    },
    {
      "source": [
        "import multiprocessing\n",
        "import time\n",
        "\n",
        "def square(n):\n",
        "    return n * n\n",
        "\n",
        "def measure_time(pool_size):\n",
        "    with multiprocessing.Pool(pool_size) as pool:\n",
        "        start_time = time.time()\n",
        "        results = pool.map(square, range(1, 11)) # This line was not indented properly\n",
        "        end_time = time.time()\n",
        "    print(f\"Pool size {pool_size}: Results {results}, Time taken: {end_time - start_time:.4f} seconds\")\n",
        "\n",
        "for size in [2, 4, 8]:\n",
        "    measure_time(size)"
      ],
      "cell_type": "code",
      "metadata": {
        "colab": {
          "base_uri": "https://localhost:8080/"
        },
        "id": "ifOedGnq3mZh",
        "outputId": "3ebe637a-1777-4375-abd6-8c11c508e507"
      },
      "execution_count": 28,
      "outputs": [
        {
          "output_type": "stream",
          "name": "stdout",
          "text": [
            "Pool size 2: Results [1, 4, 9, 16, 25, 36, 49, 64, 81, 100], Time taken: 0.0020 seconds\n",
            "Pool size 4: Results [1, 4, 9, 16, 25, 36, 49, 64, 81, 100], Time taken: 0.0027 seconds\n",
            "Pool size 8: Results [1, 4, 9, 16, 25, 36, 49, 64, 81, 100], Time taken: 0.0027 seconds\n"
          ]
        }
      ]
    },
    {
      "cell_type": "code",
      "source": [],
      "metadata": {
        "id": "b-6EaQsb25nx"
      },
      "execution_count": null,
      "outputs": []
    }
  ]
}